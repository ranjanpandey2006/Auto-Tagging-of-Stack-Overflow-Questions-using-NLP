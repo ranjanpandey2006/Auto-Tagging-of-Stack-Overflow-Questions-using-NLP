{
 "cells": [
  {
   "cell_type": "code",
   "execution_count": 4,
   "metadata": {},
   "outputs": [],
   "source": [
    "import logging\n",
    "import pandas as pd\n",
    "import numpy as np\n",
    "from numpy import random"
   ]
  },
  {
   "cell_type": "code",
   "execution_count": 6,
   "metadata": {},
   "outputs": [],
   "source": [
    "import matplotlib.pyplot as plt\n",
    "import re\n",
    "from bs4 import BeautifulSoup\n",
    "%matplotlib inline"
   ]
  },
  {
   "cell_type": "code",
   "execution_count": 28,
   "metadata": {},
   "outputs": [],
   "source": [
    "import spacy\n",
    "from spacy.lang.en.stop_words import STOP_WORDS"
   ]
  },
  {
   "cell_type": "code",
   "execution_count": 7,
   "metadata": {},
   "outputs": [],
   "source": [
    "df = pd.read_csv('stack-overflow-data.csv')"
   ]
  },
  {
   "cell_type": "code",
   "execution_count": 8,
   "metadata": {},
   "outputs": [
    {
     "data": {
      "text/html": [
       "<div>\n",
       "<style scoped>\n",
       "    .dataframe tbody tr th:only-of-type {\n",
       "        vertical-align: middle;\n",
       "    }\n",
       "\n",
       "    .dataframe tbody tr th {\n",
       "        vertical-align: top;\n",
       "    }\n",
       "\n",
       "    .dataframe thead th {\n",
       "        text-align: right;\n",
       "    }\n",
       "</style>\n",
       "<table border=\"1\" class=\"dataframe\">\n",
       "  <thead>\n",
       "    <tr style=\"text-align: right;\">\n",
       "      <th></th>\n",
       "      <th>post</th>\n",
       "      <th>tags</th>\n",
       "    </tr>\n",
       "  </thead>\n",
       "  <tbody>\n",
       "    <tr>\n",
       "      <th>0</th>\n",
       "      <td>what is causing this behavior  in our c# datet...</td>\n",
       "      <td>c#</td>\n",
       "    </tr>\n",
       "    <tr>\n",
       "      <th>1</th>\n",
       "      <td>have dynamic html load as if it was in an ifra...</td>\n",
       "      <td>asp.net</td>\n",
       "    </tr>\n",
       "    <tr>\n",
       "      <th>2</th>\n",
       "      <td>how to convert a float value in to min:sec  i ...</td>\n",
       "      <td>objective-c</td>\n",
       "    </tr>\n",
       "    <tr>\n",
       "      <th>3</th>\n",
       "      <td>.net framework 4 redistributable  just wonderi...</td>\n",
       "      <td>.net</td>\n",
       "    </tr>\n",
       "    <tr>\n",
       "      <th>4</th>\n",
       "      <td>trying to calculate and print the mean and its...</td>\n",
       "      <td>python</td>\n",
       "    </tr>\n",
       "  </tbody>\n",
       "</table>\n",
       "</div>"
      ],
      "text/plain": [
       "                                                post         tags\n",
       "0  what is causing this behavior  in our c# datet...           c#\n",
       "1  have dynamic html load as if it was in an ifra...      asp.net\n",
       "2  how to convert a float value in to min:sec  i ...  objective-c\n",
       "3  .net framework 4 redistributable  just wonderi...         .net\n",
       "4  trying to calculate and print the mean and its...       python"
      ]
     },
     "execution_count": 8,
     "metadata": {},
     "output_type": "execute_result"
    }
   ],
   "source": [
    "df.head()"
   ]
  },
  {
   "cell_type": "code",
   "execution_count": 13,
   "metadata": {},
   "outputs": [
    {
     "data": {
      "text/plain": [
       "10286120"
      ]
     },
     "execution_count": 13,
     "metadata": {},
     "output_type": "execute_result"
    }
   ],
   "source": [
    "df['post'].apply(lambda x: len(x.split(' '))).sum()"
   ]
  },
  {
   "cell_type": "code",
   "execution_count": 14,
   "metadata": {},
   "outputs": [
    {
     "data": {
      "text/plain": [
       "iphone           2000\n",
       "jquery           2000\n",
       "sql              2000\n",
       "ruby-on-rails    2000\n",
       "css              2000\n",
       "ios              2000\n",
       "c#               2000\n",
       "html             2000\n",
       "php              2000\n",
       "java             2000\n",
       "asp.net          2000\n",
       "objective-c      2000\n",
       "javascript       2000\n",
       "python           2000\n",
       "c                2000\n",
       "mysql            2000\n",
       "android          2000\n",
       "c++              2000\n",
       ".net             2000\n",
       "angularjs        2000\n",
       "Name: tags, dtype: int64"
      ]
     },
     "execution_count": 14,
     "metadata": {},
     "output_type": "execute_result"
    }
   ],
   "source": [
    "df['tags'].value_counts()"
   ]
  },
  {
   "cell_type": "code",
   "execution_count": 17,
   "metadata": {},
   "outputs": [
    {
     "data": {
      "text/plain": [
       "'what is causing this behavior  in our c# datetime type  <pre><code>[test] public void sadness() {    var datetime = datetime.utcnow;    assert.that(datetime  is.equalto(datetime.parse(datetime.tostring()))); } </code></pre>   failed :   <pre><code> expected: 2011-10-31 06:12:44.000  but was:  2011-10-31 06:12:44.350 </code></pre>   i wish to know what is happening behind the scenes in tostring() etc to cause this behavior.    edit after seeing jon s answer :   <pre><code>[test] public void newsadness() {     var datetime = datetime.utcnow;     assert.that(datetime  is.equalto(datetime.parse(datetime.tostring( o )))); } </code></pre>   result :   <pre><code>expected: 2011-10-31 12:03:04.161 but was:  2011-10-31 06:33:04.161 </code></pre>   same result with capital and small  o  . i m reading up the docs  but still unclear.'"
      ]
     },
     "execution_count": 17,
     "metadata": {},
     "output_type": "execute_result"
    }
   ],
   "source": [
    "df['post'][0]"
   ]
  },
  {
   "cell_type": "code",
   "execution_count": 18,
   "metadata": {},
   "outputs": [
    {
     "data": {
      "text/plain": [
       "'c#'"
      ]
     },
     "execution_count": 18,
     "metadata": {},
     "output_type": "execute_result"
    }
   ],
   "source": [
    "df['tags'][0]"
   ]
  },
  {
   "cell_type": "markdown",
   "metadata": {},
   "source": [
    "### Data Preprocessing - Text Cleaning "
   ]
  },
  {
   "cell_type": "code",
   "execution_count": 42,
   "metadata": {},
   "outputs": [],
   "source": [
    "post = df['post'][0]"
   ]
  },
  {
   "cell_type": "code",
   "execution_count": 51,
   "metadata": {},
   "outputs": [],
   "source": [
    "data = BeautifulSoup(post, 'lxml')"
   ]
  },
  {
   "cell_type": "code",
   "execution_count": 52,
   "metadata": {},
   "outputs": [
    {
     "data": {
      "text/plain": [
       "'what is causing this behavior  in our c# datetime type  [test] public void sadness() {    var datetime = datetime.utcnow;    assert.that(datetime  is.equalto(datetime.parse(datetime.tostring()))); }    failed :    expected: 2011-10-31 06:12:44.000  but was:  2011-10-31 06:12:44.350    i wish to know what is happening behind the scenes in tostring() etc to cause this behavior.    edit after seeing jon s answer :   [test] public void newsadness() {     var datetime = datetime.utcnow;     assert.that(datetime  is.equalto(datetime.parse(datetime.tostring( o )))); }    result :   expected: 2011-10-31 12:03:04.161 but was:  2011-10-31 06:33:04.161    same result with capital and small  o  . i m reading up the docs  but still unclear.'"
      ]
     },
     "execution_count": 52,
     "metadata": {},
     "output_type": "execute_result"
    }
   ],
   "source": [
    "data.text"
   ]
  },
  {
   "cell_type": "code",
   "execution_count": 53,
   "metadata": {},
   "outputs": [
    {
     "data": {
      "text/plain": [
       "'what is causing this behavior  in our c# datetime type  [test] public void sadness() {    var datetime = datetime.utcnow;    assert.that(datetime  is.equalto(datetime.parse(datetime.tostring()))); }    failed :    expected: 2011-10-31 06:12:44.000  but was:  2011-10-31 06:12:44.350    i wish to know what is happening behind the scenes in tostring() etc to cause this behavior.    edit after seeing jon s answer :   [test] public void newsadness() {     var datetime = datetime.utcnow;     assert.that(datetime  is.equalto(datetime.parse(datetime.tostring( o )))); }    result :   expected: 2011-10-31 12:03:04.161 but was:  2011-10-31 06:33:04.161    same result with capital and small  o  . i m reading up the docs  but still unclear.'"
      ]
     },
     "execution_count": 53,
     "metadata": {},
     "output_type": "execute_result"
    }
   ],
   "source": [
    "data = data.text\n",
    "data.lower()"
   ]
  },
  {
   "cell_type": "code",
   "execution_count": 54,
   "metadata": {},
   "outputs": [
    {
     "data": {
      "text/plain": [
       "'what is causing this behavior  in our c# datetime type   test  public void sadness        var datetime = datetime.utcnow     assert.that datetime  is.equalto datetime.parse datetime.tostring            failed :    expected:              :  :  .     but was:               :  :  .       i wish to know what is happening behind the scenes in tostring   etc to cause this behavior.    edit after seeing jon s answer :    test  public void newsadness         var datetime = datetime.utcnow      assert.that datetime  is.equalto datetime.parse datetime.tostring  o            result :   expected:              :  :  .    but was:               :  :  .       same result with capital and small  o  . i m reading up the docs  but still unclear.'"
      ]
     },
     "execution_count": 54,
     "metadata": {},
     "output_type": "execute_result"
    }
   ],
   "source": [
    "data = re.compile('[/(){}\\[\\]\\|@,;\\d-]').sub(' ', data)\n",
    "data"
   ]
  },
  {
   "cell_type": "code",
   "execution_count": 55,
   "metadata": {},
   "outputs": [
    {
     "data": {
      "text/plain": [
       "'what is causing this behavior  in our c# datetime type   test  public void sadness        var datetime  datetimeutcnow     assertthat datetime  isequalto datetimeparse datetimetostring            failed     expected                       but was                          i wish to know what is happening behind the scenes in tostring   etc to cause this behavior    edit after seeing jon s answer     test  public void newsadness         var datetime  datetimeutcnow      assertthat datetime  isequalto datetimeparse datetimetostring  o            result    expected                      but was                          same result with capital and small  o   i m reading up the docs  but still unclear'"
      ]
     },
     "execution_count": 55,
     "metadata": {},
     "output_type": "execute_result"
    }
   ],
   "source": [
    "data = re.compile('[^0-9a-z #+_]').sub('', data)\n",
    "data"
   ]
  },
  {
   "cell_type": "code",
   "execution_count": 56,
   "metadata": {},
   "outputs": [],
   "source": [
    "data = ' '.join(token for token in data.split() if token not in STOP_WORDS)"
   ]
  },
  {
   "cell_type": "code",
   "execution_count": 57,
   "metadata": {},
   "outputs": [
    {
     "data": {
      "text/plain": [
       "'causing behavior c# datetime type test public void sadness var datetime datetimeutcnow assertthat datetime isequalto datetimeparse datetimetostring failed expected wish know happening scenes tostring etc cause behavior edit seeing jon s answer test public void newsadness var datetime datetimeutcnow assertthat datetime isequalto datetimeparse datetimetostring o result expected result capital small o m reading docs unclear'"
      ]
     },
     "execution_count": 57,
     "metadata": {},
     "output_type": "execute_result"
    }
   ],
   "source": [
    "data"
   ]
  },
  {
   "cell_type": "code",
   "execution_count": 58,
   "metadata": {},
   "outputs": [],
   "source": [
    "def text_clean(post):\n",
    "    data = BeautifulSoup(post, 'lxml')\n",
    "    data = data.text\n",
    "    data = re.compile('[/(){}\\[\\]\\|@,;\\d-]').sub(' ', data)\n",
    "    data = re.compile('[^0-9a-z #+_]').sub('', data)\n",
    "    data = ' '.join(token for token in data.split() if token not in STOP_WORDS)\n",
    "    return data"
   ]
  },
  {
   "cell_type": "code",
   "execution_count": 59,
   "metadata": {},
   "outputs": [],
   "source": [
    "df['cleaned_post'] = df['post'].apply(text_clean)"
   ]
  },
  {
   "cell_type": "code",
   "execution_count": 60,
   "metadata": {},
   "outputs": [
    {
     "data": {
      "text/plain": [
       "'causing behavior c# datetime type test public void sadness var datetime datetimeutcnow assertthat datetime isequalto datetimeparse datetimetostring failed expected wish know happening scenes tostring etc cause behavior edit seeing jon s answer test public void newsadness var datetime datetimeutcnow assertthat datetime isequalto datetimeparse datetimetostring o result expected result capital small o m reading docs unclear'"
      ]
     },
     "execution_count": 60,
     "metadata": {},
     "output_type": "execute_result"
    }
   ],
   "source": [
    "df['cleaned_post'][0]"
   ]
  },
  {
   "cell_type": "code",
   "execution_count": 61,
   "metadata": {},
   "outputs": [
    {
     "data": {
      "text/plain": [
       "'dynamic html load iframe aspnet site users save entire html page backend database want load dynamic content div existing page content area couple things happen want css affect outside div trying loading badly formed html images divs outside content area lot html pages use base tag images links want base tag respected inside div solution going try use iframe set url child page loads dynamic html page entirely wondering better solution'"
      ]
     },
     "execution_count": 61,
     "metadata": {},
     "output_type": "execute_result"
    }
   ],
   "source": [
    "df['cleaned_post'][1]"
   ]
  },
  {
   "cell_type": "code",
   "execution_count": 62,
   "metadata": {},
   "outputs": [
    {
     "data": {
      "text/plain": [
       "3180726"
      ]
     },
     "execution_count": 62,
     "metadata": {},
     "output_type": "execute_result"
    }
   ],
   "source": [
    "df['cleaned_post'].apply(lambda x: len(x.split(' '))).sum()"
   ]
  },
  {
   "cell_type": "markdown",
   "metadata": {},
   "source": [
    "### TF-IDF Model with SVM"
   ]
  },
  {
   "cell_type": "code",
   "execution_count": 78,
   "metadata": {},
   "outputs": [],
   "source": [
    "from sklearn.model_selection import train_test_split\n",
    "from sklearn.pipeline import Pipeline\n",
    "from sklearn.feature_extraction.text import TfidfVectorizer\n",
    "from sklearn.svm import LinearSVC\n",
    "from sklearn.ensemble import RandomForestClassifier"
   ]
  },
  {
   "cell_type": "code",
   "execution_count": 152,
   "metadata": {},
   "outputs": [],
   "source": [
    "from sklearn.metrics import accuracy_score, confusion_matrix, classification_report\n",
    "from sklearn.preprocessing import LabelBinarizer, LabelEncoder\n"
   ]
  },
  {
   "cell_type": "code",
   "execution_count": 154,
   "metadata": {},
   "outputs": [],
   "source": [
    "data = df[['cleaned_post', 'tags']].copy()"
   ]
  },
  {
   "cell_type": "code",
   "execution_count": 155,
   "metadata": {},
   "outputs": [
    {
     "data": {
      "text/html": [
       "<div>\n",
       "<style scoped>\n",
       "    .dataframe tbody tr th:only-of-type {\n",
       "        vertical-align: middle;\n",
       "    }\n",
       "\n",
       "    .dataframe tbody tr th {\n",
       "        vertical-align: top;\n",
       "    }\n",
       "\n",
       "    .dataframe thead th {\n",
       "        text-align: right;\n",
       "    }\n",
       "</style>\n",
       "<table border=\"1\" class=\"dataframe\">\n",
       "  <thead>\n",
       "    <tr style=\"text-align: right;\">\n",
       "      <th></th>\n",
       "      <th>cleaned_post</th>\n",
       "      <th>tags</th>\n",
       "    </tr>\n",
       "  </thead>\n",
       "  <tbody>\n",
       "    <tr>\n",
       "      <th>0</th>\n",
       "      <td>causing behavior c# datetime type test public ...</td>\n",
       "      <td>c#</td>\n",
       "    </tr>\n",
       "    <tr>\n",
       "      <th>1</th>\n",
       "      <td>dynamic html load iframe aspnet site users sav...</td>\n",
       "      <td>asp.net</td>\n",
       "    </tr>\n",
       "    <tr>\n",
       "      <th>2</th>\n",
       "      <td>convert float value minsec m trying convert se...</td>\n",
       "      <td>objective-c</td>\n",
       "    </tr>\n",
       "    <tr>\n",
       "      <th>3</th>\n",
       "      <td>net framework redistributable wondering net fr...</td>\n",
       "      <td>.net</td>\n",
       "    </tr>\n",
       "    <tr>\n",
       "      <th>4</th>\n",
       "      <td>trying calculate print mean returning number p...</td>\n",
       "      <td>python</td>\n",
       "    </tr>\n",
       "  </tbody>\n",
       "</table>\n",
       "</div>"
      ],
      "text/plain": [
       "                                        cleaned_post         tags\n",
       "0  causing behavior c# datetime type test public ...           c#\n",
       "1  dynamic html load iframe aspnet site users sav...      asp.net\n",
       "2  convert float value minsec m trying convert se...  objective-c\n",
       "3  net framework redistributable wondering net fr...         .net\n",
       "4  trying calculate print mean returning number p...       python"
      ]
     },
     "execution_count": 155,
     "metadata": {},
     "output_type": "execute_result"
    }
   ],
   "source": [
    "data.head()"
   ]
  },
  {
   "cell_type": "code",
   "execution_count": 156,
   "metadata": {},
   "outputs": [],
   "source": [
    "tfidf = TfidfVectorizer()\n",
    "classifier = LinearSVC()"
   ]
  },
  {
   "cell_type": "code",
   "execution_count": 158,
   "metadata": {},
   "outputs": [],
   "source": [
    "X = data['cleaned_post']\n",
    "y = data['tags']"
   ]
  },
  {
   "cell_type": "code",
   "execution_count": 159,
   "metadata": {},
   "outputs": [],
   "source": [
    "X_train, X_test, y_train, y_test = train_test_split(X, y, test_size = 0.2, random_state = 42)"
   ]
  },
  {
   "cell_type": "code",
   "execution_count": 160,
   "metadata": {},
   "outputs": [
    {
     "data": {
      "text/plain": [
       "((32000,), (8000,))"
      ]
     },
     "execution_count": 160,
     "metadata": {},
     "output_type": "execute_result"
    }
   ],
   "source": [
    "X_train.shape, X_test.shape"
   ]
  },
  {
   "cell_type": "code",
   "execution_count": 161,
   "metadata": {},
   "outputs": [],
   "source": [
    "clf = Pipeline([('tfidf', tfidf), ('clf', classifier)])"
   ]
  },
  {
   "cell_type": "code",
   "execution_count": 162,
   "metadata": {},
   "outputs": [
    {
     "data": {
      "text/plain": [
       "Pipeline(memory=None,\n",
       "         steps=[('tfidf',\n",
       "                 TfidfVectorizer(analyzer='word', binary=False,\n",
       "                                 decode_error='strict',\n",
       "                                 dtype=<class 'numpy.float64'>,\n",
       "                                 encoding='utf-8', input='content',\n",
       "                                 lowercase=True, max_df=1.0, max_features=None,\n",
       "                                 min_df=1, ngram_range=(1, 1), norm='l2',\n",
       "                                 preprocessor=None, smooth_idf=True,\n",
       "                                 stop_words=None, strip_accents=None,\n",
       "                                 sublinear_tf=False,\n",
       "                                 token_pattern='(?u)\\\\b\\\\w\\\\w+\\\\b',\n",
       "                                 tokenizer=None, use_idf=True,\n",
       "                                 vocabulary=None)),\n",
       "                ('clf',\n",
       "                 LinearSVC(C=1.0, class_weight=None, dual=True,\n",
       "                           fit_intercept=True, intercept_scaling=1,\n",
       "                           loss='squared_hinge', max_iter=1000,\n",
       "                           multi_class='ovr', penalty='l2', random_state=None,\n",
       "                           tol=0.0001, verbose=0))],\n",
       "         verbose=False)"
      ]
     },
     "execution_count": 162,
     "metadata": {},
     "output_type": "execute_result"
    }
   ],
   "source": [
    "clf.fit(X_train, y_train)"
   ]
  },
  {
   "cell_type": "code",
   "execution_count": 163,
   "metadata": {},
   "outputs": [],
   "source": [
    "y_pred = clf.predict(X_test)"
   ]
  },
  {
   "cell_type": "code",
   "execution_count": 164,
   "metadata": {},
   "outputs": [
    {
     "name": "stdout",
     "output_type": "stream",
     "text": [
      "0.805375\n"
     ]
    }
   ],
   "source": [
    "print(accuracy_score(y_test, y_pred))"
   ]
  },
  {
   "cell_type": "code",
   "execution_count": 165,
   "metadata": {},
   "outputs": [
    {
     "name": "stdout",
     "output_type": "stream",
     "text": [
      "               precision    recall  f1-score   support\n",
      "\n",
      "         .net       0.77      0.67      0.71       408\n",
      "      android       0.92      0.90      0.91       396\n",
      "    angularjs       0.97      0.95      0.96       398\n",
      "      asp.net       0.83      0.78      0.81       395\n",
      "            c       0.79      0.86      0.82       395\n",
      "           c#       0.66      0.62      0.64       376\n",
      "          c++       0.80      0.77      0.78       402\n",
      "          css       0.82      0.87      0.85       407\n",
      "         html       0.70      0.71      0.71       424\n",
      "          ios       0.66      0.66      0.66       383\n",
      "       iphone       0.66      0.67      0.66       398\n",
      "         java       0.84      0.85      0.84       400\n",
      "   javascript       0.79      0.81      0.80       405\n",
      "       jquery       0.84      0.87      0.85       375\n",
      "        mysql       0.84      0.82      0.83       383\n",
      "  objective-c       0.72      0.67      0.69       395\n",
      "          php       0.82      0.85      0.84       397\n",
      "       python       0.92      0.92      0.92       418\n",
      "ruby-on-rails       0.96      0.94      0.95       423\n",
      "          sql       0.78      0.88      0.83       422\n",
      "\n",
      "     accuracy                           0.81      8000\n",
      "    macro avg       0.80      0.80      0.80      8000\n",
      " weighted avg       0.81      0.81      0.80      8000\n",
      "\n"
     ]
    }
   ],
   "source": [
    "print(classification_report(y_test, y_pred))"
   ]
  },
  {
   "cell_type": "markdown",
   "metadata": {},
   "source": [
    "### Random Forest "
   ]
  },
  {
   "cell_type": "code",
   "execution_count": 169,
   "metadata": {},
   "outputs": [],
   "source": [
    "tfidf = TfidfVectorizer()\n",
    "classifier = RandomForestClassifier(n_estimators = 100, n_jobs = -1)"
   ]
  },
  {
   "cell_type": "code",
   "execution_count": 170,
   "metadata": {},
   "outputs": [],
   "source": [
    "clf = Pipeline([('tfidf', tfidf), ('clf', classifier)])"
   ]
  },
  {
   "cell_type": "code",
   "execution_count": 171,
   "metadata": {},
   "outputs": [
    {
     "data": {
      "text/plain": [
       "Pipeline(memory=None,\n",
       "         steps=[('tfidf',\n",
       "                 TfidfVectorizer(analyzer='word', binary=False,\n",
       "                                 decode_error='strict',\n",
       "                                 dtype=<class 'numpy.float64'>,\n",
       "                                 encoding='utf-8', input='content',\n",
       "                                 lowercase=True, max_df=1.0, max_features=None,\n",
       "                                 min_df=1, ngram_range=(1, 1), norm='l2',\n",
       "                                 preprocessor=None, smooth_idf=True,\n",
       "                                 stop_words=None, strip_accents=None,\n",
       "                                 sublinear_tf=False,\n",
       "                                 token_pattern='...\n",
       "                 RandomForestClassifier(bootstrap=True, class_weight=None,\n",
       "                                        criterion='gini', max_depth=None,\n",
       "                                        max_features='auto',\n",
       "                                        max_leaf_nodes=None,\n",
       "                                        min_impurity_decrease=0.0,\n",
       "                                        min_impurity_split=None,\n",
       "                                        min_samples_leaf=1, min_samples_split=2,\n",
       "                                        min_weight_fraction_leaf=0.0,\n",
       "                                        n_estimators=100, n_jobs=-1,\n",
       "                                        oob_score=False, random_state=None,\n",
       "                                        verbose=0, warm_start=False))],\n",
       "         verbose=False)"
      ]
     },
     "execution_count": 171,
     "metadata": {},
     "output_type": "execute_result"
    }
   ],
   "source": [
    "clf.fit(X_train, y_train)"
   ]
  },
  {
   "cell_type": "code",
   "execution_count": 172,
   "metadata": {},
   "outputs": [],
   "source": [
    "y_pred = clf.predict(X_test)"
   ]
  },
  {
   "cell_type": "code",
   "execution_count": 173,
   "metadata": {},
   "outputs": [
    {
     "name": "stdout",
     "output_type": "stream",
     "text": [
      "0.79025\n"
     ]
    }
   ],
   "source": [
    "print(accuracy_score(y_test, y_pred))"
   ]
  },
  {
   "cell_type": "code",
   "execution_count": 174,
   "metadata": {},
   "outputs": [
    {
     "name": "stdout",
     "output_type": "stream",
     "text": [
      "               precision    recall  f1-score   support\n",
      "\n",
      "         .net       0.67      0.69      0.68       408\n",
      "      android       0.96      0.87      0.91       396\n",
      "    angularjs       0.97      0.96      0.97       398\n",
      "      asp.net       0.80      0.77      0.78       395\n",
      "            c       0.76      0.88      0.81       395\n",
      "           c#       0.68      0.54      0.60       376\n",
      "          c++       0.87      0.68      0.76       402\n",
      "          css       0.68      0.91      0.78       407\n",
      "         html       0.70      0.62      0.66       424\n",
      "          ios       0.72      0.61      0.66       383\n",
      "       iphone       0.61      0.63      0.62       398\n",
      "         java       0.86      0.85      0.86       400\n",
      "   javascript       0.79      0.79      0.79       405\n",
      "       jquery       0.82      0.85      0.83       375\n",
      "        mysql       0.80      0.82      0.81       383\n",
      "  objective-c       0.68      0.71      0.70       395\n",
      "          php       0.88      0.85      0.86       397\n",
      "       python       0.89      0.93      0.91       418\n",
      "ruby-on-rails       0.97      0.91      0.94       423\n",
      "          sql       0.77      0.90      0.83       422\n",
      "\n",
      "     accuracy                           0.79      8000\n",
      "    macro avg       0.79      0.79      0.79      8000\n",
      " weighted avg       0.79      0.79      0.79      8000\n",
      "\n"
     ]
    }
   ],
   "source": [
    "print(classification_report(y_test, y_pred))"
   ]
  },
  {
   "cell_type": "markdown",
   "metadata": {},
   "source": [
    "### Word2Vec "
   ]
  },
  {
   "cell_type": "code",
   "execution_count": 175,
   "metadata": {},
   "outputs": [
    {
     "name": "stdout",
     "output_type": "stream",
     "text": [
      "Requirement already satisfied: en_core_web_lg==2.2.0 from https://github.com/explosion/spacy-models/releases/download/en_core_web_lg-2.2.0/en_core_web_lg-2.2.0.tar.gz#egg=en_core_web_lg==2.2.0 in c:\\programdata\\anaconda3\\lib\\site-packages (2.2.0)\n",
      "Requirement already satisfied: spacy>=2.2.0 in c:\\programdata\\anaconda3\\lib\\site-packages (from en_core_web_lg==2.2.0) (2.2.1)\n",
      "Requirement already satisfied: srsly<1.1.0,>=0.1.0 in c:\\programdata\\anaconda3\\lib\\site-packages (from spacy>=2.2.0->en_core_web_lg==2.2.0) (0.1.0)\n",
      "Requirement already satisfied: thinc<7.2.0,>=7.1.1 in c:\\programdata\\anaconda3\\lib\\site-packages (from spacy>=2.2.0->en_core_web_lg==2.2.0) (7.1.1)\n",
      "Requirement already satisfied: plac<1.0.0,>=0.9.6 in c:\\programdata\\anaconda3\\lib\\site-packages (from spacy>=2.2.0->en_core_web_lg==2.2.0) (0.9.6)\n",
      "Requirement already satisfied: numpy>=1.15.0 in c:\\programdata\\anaconda3\\lib\\site-packages (from spacy>=2.2.0->en_core_web_lg==2.2.0) (1.16.4)\n",
      "Requirement already satisfied: murmurhash<1.1.0,>=0.28.0 in c:\\programdata\\anaconda3\\lib\\site-packages (from spacy>=2.2.0->en_core_web_lg==2.2.0) (1.0.0)\n",
      "Requirement already satisfied: cymem<2.1.0,>=2.0.2 in c:\\programdata\\anaconda3\\lib\\site-packages (from spacy>=2.2.0->en_core_web_lg==2.2.0) (2.0.2)\n",
      "Requirement already satisfied: blis<0.5.0,>=0.4.0 in c:\\programdata\\anaconda3\\lib\\site-packages (from spacy>=2.2.0->en_core_web_lg==2.2.0) (0.4.1)\n",
      "Requirement already satisfied: preshed<3.1.0,>=3.0.2 in c:\\programdata\\anaconda3\\lib\\site-packages (from spacy>=2.2.0->en_core_web_lg==2.2.0) (3.0.2)\n",
      "Requirement already satisfied: requests<3.0.0,>=2.13.0 in c:\\programdata\\anaconda3\\lib\\site-packages (from spacy>=2.2.0->en_core_web_lg==2.2.0) (2.22.0)\n",
      "Requirement already satisfied: wasabi<1.1.0,>=0.2.0 in c:\\programdata\\anaconda3\\lib\\site-packages (from spacy>=2.2.0->en_core_web_lg==2.2.0) (0.2.2)\n",
      "Requirement already satisfied: tqdm<5.0.0,>=4.10.0 in c:\\programdata\\anaconda3\\lib\\site-packages (from thinc<7.2.0,>=7.1.1->spacy>=2.2.0->en_core_web_lg==2.2.0) (4.32.1)\n",
      "Requirement already satisfied: chardet<3.1.0,>=3.0.2 in c:\\programdata\\anaconda3\\lib\\site-packages (from requests<3.0.0,>=2.13.0->spacy>=2.2.0->en_core_web_lg==2.2.0) (3.0.4)\n",
      "Requirement already satisfied: certifi>=2017.4.17 in c:\\programdata\\anaconda3\\lib\\site-packages (from requests<3.0.0,>=2.13.0->spacy>=2.2.0->en_core_web_lg==2.2.0) (2019.6.16)\n",
      "Requirement already satisfied: urllib3!=1.25.0,!=1.25.1,<1.26,>=1.21.1 in c:\\programdata\\anaconda3\\lib\\site-packages (from requests<3.0.0,>=2.13.0->spacy>=2.2.0->en_core_web_lg==2.2.0) (1.24.2)\n",
      "Requirement already satisfied: idna<2.9,>=2.5 in c:\\programdata\\anaconda3\\lib\\site-packages (from requests<3.0.0,>=2.13.0->spacy>=2.2.0->en_core_web_lg==2.2.0) (2.8)\n",
      "[+] Download and installation successful\n",
      "You can now load the model via spacy.load('en_core_web_lg')\n"
     ]
    }
   ],
   "source": [
    "!python -m spacy download en_core_web_lg"
   ]
  },
  {
   "cell_type": "code",
   "execution_count": 176,
   "metadata": {},
   "outputs": [],
   "source": [
    "nlp = spacy.load('en_core_web_lg')"
   ]
  },
  {
   "cell_type": "code",
   "execution_count": 178,
   "metadata": {},
   "outputs": [],
   "source": [
    "doc = nlp('today I am going to learn word2doc')"
   ]
  },
  {
   "cell_type": "code",
   "execution_count": 180,
   "metadata": {},
   "outputs": [
    {
     "data": {
      "text/plain": [
       "array([-1.5657e-01,  5.9489e-01, -3.1445e-02, -7.7586e-02,  2.7863e-01,\n",
       "       -5.0921e-01, -6.6350e-02, -8.1890e-02, -4.7986e-02,  2.8036e+00,\n",
       "       -1.3182e-01, -6.2710e-01,  2.5388e-01, -4.7291e-01, -4.2875e-01,\n",
       "        1.4352e-01, -1.1818e-01,  6.7974e-01, -6.2287e-03, -1.5272e-03,\n",
       "       -1.6379e-01, -3.4067e-02,  2.7102e-01,  5.4245e-02, -1.1752e-02,\n",
       "        3.2447e-01, -3.2140e-01, -3.7041e-03, -2.0539e-01,  5.7008e-02,\n",
       "        1.7746e-01, -1.6603e-01,  5.0532e-01, -2.1520e-01,  1.0503e-02,\n",
       "        5.9839e-01,  2.1347e-02,  1.0365e-01,  2.3387e-02,  9.7183e-02,\n",
       "       -1.7079e-01, -7.6186e-02,  2.0963e-01, -2.0728e-02,  4.9396e-02,\n",
       "        4.2684e-01, -3.3965e-01, -6.7623e-02,  1.1842e-01, -1.3857e-01,\n",
       "       -1.6147e-01,  4.0594e-01, -2.7631e-01,  1.3817e-01,  1.5902e-01,\n",
       "        2.0709e-02, -2.5881e-01, -1.4681e-01,  1.7239e-01, -3.9357e-01,\n",
       "       -3.2685e-01, -7.6166e-02, -1.3211e-01,  1.3168e-01, -1.3224e-02,\n",
       "       -5.3735e-03,  4.2536e-02,  1.2877e-01, -2.6833e-02,  1.5683e-01,\n",
       "       -8.3654e-02, -1.0993e-01,  3.0675e-01, -1.7220e-01,  3.4078e-01,\n",
       "        3.9081e-01,  3.2808e-01,  1.7720e-01, -1.3564e-01,  5.6486e-01,\n",
       "        6.7092e-02,  1.3201e-01, -6.1722e-02,  4.3413e-04,  7.2303e-02,\n",
       "       -5.0367e-01, -3.2598e-01, -2.1931e-01,  2.8529e-01,  1.8245e-01,\n",
       "        2.8761e-01,  4.7374e-01, -1.4893e-01,  1.9630e-01, -8.5046e-02,\n",
       "        2.1346e-01, -1.3621e-01,  2.3181e-01,  2.9661e-01, -7.2499e-02,\n",
       "        9.8850e-02, -4.0651e-03,  1.4348e-01,  2.7829e-01,  1.5948e-01,\n",
       "       -2.1860e-01,  3.2034e-01, -2.0069e-01,  3.2274e-02,  3.5252e-01,\n",
       "        2.3747e-01, -4.6326e-01,  2.9333e-01,  1.1098e-01, -1.9422e-02,\n",
       "        3.3428e-01, -8.4854e-02,  4.5124e-02,  2.6249e-01, -6.3702e-03,\n",
       "        2.9343e-01, -4.8565e-02,  1.1056e-01, -3.4555e-02,  1.1455e-01,\n",
       "       -3.0133e-02,  1.8086e-01, -5.7489e-02,  8.5075e-02, -3.8575e-01,\n",
       "        2.2746e-01, -4.4725e-01, -2.5230e-02, -3.0084e-02, -1.8127e-01,\n",
       "       -7.1231e-02,  2.1990e-01,  5.1766e-02, -1.8671e-01,  3.4188e-01,\n",
       "       -1.0565e+00,  4.6115e-02,  1.7529e-01, -2.6455e-01,  2.7009e-01,\n",
       "        2.7479e-02, -1.9593e-01,  2.1648e-01, -2.1557e-01,  1.6233e-01,\n",
       "       -3.8058e-01,  2.6816e-01,  1.1340e-01, -2.2142e-01, -1.5918e-01,\n",
       "       -4.8045e-02,  1.9198e-01, -2.4841e-01, -6.9139e-02, -2.4586e-01,\n",
       "       -1.1722e-01, -5.6422e-02, -4.7051e-01, -2.9323e-01, -2.8666e-01,\n",
       "       -8.6125e-02,  8.7818e-02,  6.3105e-03,  1.6199e-01,  3.4021e-02,\n",
       "       -9.2925e-02, -2.4861e-01, -3.1579e-01, -1.9075e-01, -5.0280e-01,\n",
       "       -1.7473e-01, -3.9835e-02, -3.5044e-01, -2.6450e-01,  1.4169e-01,\n",
       "       -3.6878e-01, -1.9333e-02,  2.2467e-01, -6.0448e-02, -2.8899e-02,\n",
       "       -4.9551e-01,  6.7782e-02, -3.8561e-02,  3.3652e-03,  1.8679e-01,\n",
       "       -7.3715e-02, -1.9850e-01,  3.4629e-01,  1.3389e-02,  1.6165e-01,\n",
       "        1.0565e-01, -9.0718e-02,  1.7868e-01, -1.6193e-01,  1.5034e-01,\n",
       "       -1.2407e-01, -1.6270e-01,  3.6728e-01,  1.8508e-02,  3.1523e-01,\n",
       "       -1.5696e-01, -3.9957e-01,  3.5336e-02, -2.4175e-01,  9.3332e-02,\n",
       "       -2.4800e-01, -3.8768e-01,  1.0799e-01, -5.4007e-03,  2.8748e-01,\n",
       "       -1.5881e-02,  3.7580e-01, -3.8876e-01, -4.4828e-01,  2.1945e-01,\n",
       "        9.3542e-02, -5.0115e-01, -1.1820e-01,  1.9225e-01, -3.2094e-03,\n",
       "       -3.0884e-01, -4.6876e-01, -9.0546e-02, -3.9695e-02,  8.7461e-02,\n",
       "       -5.5856e-02,  4.3095e-01,  1.7889e-01,  1.3140e-01,  2.3677e-01,\n",
       "       -2.2222e-01, -4.7896e-01, -1.2623e-01, -6.5152e-02,  2.4419e-01,\n",
       "       -1.2936e-02, -3.4590e-01,  6.9501e-02,  4.1012e-01,  7.4142e-02,\n",
       "        1.6893e-01,  7.6327e-03, -1.0942e-01, -1.5349e-01,  9.2735e-02,\n",
       "       -2.5120e-01,  9.6740e-02, -4.2815e-02, -2.0067e-01,  1.0463e-01,\n",
       "       -1.5599e-01,  4.9118e-02,  1.9353e-01, -5.1179e-01, -2.8215e-01,\n",
       "        5.5316e-01,  1.0097e-01, -3.8663e-01,  1.2178e-02, -1.8138e-01,\n",
       "       -3.8129e-01, -2.0048e-01, -3.4747e-01,  7.0278e-01,  2.9991e-01,\n",
       "       -1.9815e-01,  4.1330e-02, -1.6999e-01,  3.4650e-01, -1.3552e-01,\n",
       "        1.6235e-01, -1.4515e-01,  2.8977e-01,  9.5377e-02, -1.1384e-01,\n",
       "        3.7263e-01, -1.1617e-01,  9.1593e-02,  1.2666e-01, -3.5243e-02,\n",
       "        2.6114e-01,  2.3531e-01, -3.2392e-01, -3.3805e-01,  1.3451e-01,\n",
       "       -3.2658e-01, -4.1338e-01,  3.6791e-01, -2.6263e-01, -2.0369e-01,\n",
       "       -2.9656e-01, -1.4873e-02, -2.5006e-01, -1.1594e-01,  8.3741e-02],\n",
       "      dtype=float32)"
      ]
     },
     "execution_count": 180,
     "metadata": {},
     "output_type": "execute_result"
    }
   ],
   "source": [
    "doc[0].vector"
   ]
  },
  {
   "cell_type": "code",
   "execution_count": 181,
   "metadata": {},
   "outputs": [
    {
     "data": {
      "text/plain": [
       "array([-6.22242922e-03,  3.66661400e-01, -2.40593582e-01,  3.08350027e-02,\n",
       "        1.12123422e-01, -2.34057065e-02,  6.26979023e-02, -8.27725604e-02,\n",
       "       -2.62314244e-03,  2.06082869e+00, -4.01948601e-01, -1.98807418e-02,\n",
       "        4.94028553e-02, -6.53694198e-02, -9.82314274e-02,  2.87915673e-02,\n",
       "       -1.76654294e-01,  9.29194331e-01, -1.93387792e-01,  7.47183934e-02,\n",
       "        1.20282851e-01, -6.67640045e-02,  9.39718559e-02,  9.89337116e-02,\n",
       "       -8.08691457e-02,  1.39777288e-01, -7.30607659e-02, -1.60455853e-01,\n",
       "        1.35614559e-01, -1.35344282e-01, -1.49561718e-01,  1.70657150e-02,\n",
       "        1.05809011e-01,  4.92172875e-02,  7.65613979e-03,  6.04450032e-02,\n",
       "        9.90117192e-02,  1.93372846e-01, -1.04064859e-01, -5.76275587e-02,\n",
       "       -1.77936569e-01, -1.44178584e-01, -4.68965694e-02,  1.88559983e-02,\n",
       "        8.85578543e-02,  3.65736634e-01, -5.02628498e-02, -3.01755704e-02,\n",
       "        4.43435721e-02, -8.17852765e-02, -7.66167119e-02,  1.23787716e-01,\n",
       "       -2.89720036e-02,  3.02439742e-02,  2.40989998e-01,  1.39785990e-01,\n",
       "       -1.81852713e-01, -1.41184285e-01,  2.66084839e-02, -9.80102941e-02,\n",
       "       -1.07845284e-01, -2.49562278e-01, -1.58732012e-01,  4.06574272e-02,\n",
       "       -2.97368560e-02, -2.22129226e-01,  6.13504164e-02,  9.49792862e-02,\n",
       "        2.08654240e-01,  1.51614279e-01, -1.34422844e-02, -1.24821449e-02,\n",
       "        1.98127136e-01, -2.30452865e-01,  3.41092020e-01,  1.73936024e-01,\n",
       "        1.73038140e-01, -1.79557148e-02, -1.02484427e-01,  2.30981708e-01,\n",
       "        1.28245860e-01,  3.44767086e-02, -7.44758472e-02, -2.07829811e-02,\n",
       "        6.60522804e-02, -1.81916043e-01, -5.49857970e-03, -3.66373450e-01,\n",
       "        3.51364285e-01,  7.95612782e-02, -7.63322785e-02, -6.30842000e-02,\n",
       "       -2.74176717e-01,  9.69427153e-02,  8.24807212e-02,  1.37752727e-01,\n",
       "        1.52228594e-01, -2.46022884e-02, -4.23085690e-02,  3.31357331e-03,\n",
       "        2.73242802e-03, -4.49175872e-02,  5.04424311e-02,  2.03442783e-03,\n",
       "        1.86385706e-01, -3.83729994e-01,  1.11845724e-01, -1.69807866e-01,\n",
       "       -1.54764252e-02,  9.08974260e-02,  3.56582887e-02, -3.58238548e-01,\n",
       "        2.26281419e-01, -1.49847150e-01,  1.57707423e-01,  1.72422882e-02,\n",
       "       -6.94956956e-03, -1.84057713e-01, -1.14473231e-01, -9.56288818e-03,\n",
       "        2.28932858e-01, -1.67159289e-01,  9.34299976e-02, -5.68188019e-02,\n",
       "        2.98767269e-01,  9.82389972e-02, -8.18394274e-02, -5.61000407e-03,\n",
       "       -2.50189938e-02, -2.30071396e-02,  4.78128605e-02, -8.33731443e-02,\n",
       "       -2.80871421e-01,  1.56278282e-01,  1.00756995e-01, -1.99837118e-01,\n",
       "       -1.04328714e-01, -1.01728528e-03, -9.15239975e-02,  4.10360061e-02,\n",
       "       -1.44342864e+00, -5.62513946e-03,  1.89814307e-02, -1.09931707e-01,\n",
       "        7.04167187e-02,  3.00765783e-02, -1.81684867e-01,  9.99098569e-02,\n",
       "       -6.60247207e-02, -2.64379174e-01, -1.47778586e-01,  8.09345692e-02,\n",
       "       -1.47629697e-02,  6.29271287e-03, -7.54561424e-02, -1.28693566e-01,\n",
       "        1.56721428e-01, -1.49972707e-01, -6.54202327e-02, -9.41024646e-02,\n",
       "       -1.94913789e-03, -6.54828474e-02, -1.55901715e-01, -2.61031445e-02,\n",
       "        7.95372017e-03,  2.16739979e-02,  2.22951379e-02, -9.26786512e-02,\n",
       "        3.71728577e-02,  2.13277154e-02, -1.83455020e-01, -1.28441304e-01,\n",
       "        1.56493157e-01, -2.61951566e-01, -3.17747146e-02, -1.24895442e-02,\n",
       "       -1.22063570e-01,  6.92585707e-02,  5.36822900e-02,  1.29473284e-01,\n",
       "       -3.35027166e-02,  2.22561453e-02, -1.34208441e-01, -5.33062816e-02,\n",
       "        2.91834231e-02, -2.50455718e-02, -9.82792899e-02, -9.89667177e-02,\n",
       "        1.10551454e-01,  1.86342850e-01, -2.79220026e-02, -8.10728781e-03,\n",
       "       -1.24750145e-01, -2.30940863e-01,  9.72749218e-02,  2.59411424e-01,\n",
       "       -4.17497121e-02, -6.19704314e-02,  7.12835714e-02,  1.01907149e-01,\n",
       "        7.42327124e-02, -1.48575693e-01,  7.65858665e-02, -3.08829993e-02,\n",
       "        1.83101445e-01,  6.86700176e-03, -7.44038671e-02, -7.13038072e-02,\n",
       "        1.63930431e-01,  2.65631136e-02, -1.05077282e-01, -2.03575715e-01,\n",
       "       -5.27437106e-02, -8.74288306e-02,  3.41572799e-02,  5.03750257e-02,\n",
       "        9.02243145e-03, -5.76785803e-02, -2.71145731e-01,  1.00006565e-01,\n",
       "        1.81088209e-01, -1.34165421e-01,  9.31770056e-02, -3.00655700e-02,\n",
       "       -1.19205631e-01, -2.12005693e-02, -4.06257175e-02,  8.00092816e-02,\n",
       "       -7.25122839e-02, -8.43361542e-02, -1.81972280e-01,  7.03678653e-02,\n",
       "        1.26248583e-01,  1.81417137e-01, -5.68312816e-02, -2.06507906e-01,\n",
       "       -2.08527550e-01, -7.21905753e-02, -7.22105652e-02,  1.96728826e-01,\n",
       "        2.35420987e-01, -1.14372715e-01,  1.01218000e-01,  1.97757274e-01,\n",
       "        4.47438620e-02, -2.37718582e-01, -8.80793333e-02,  1.67785690e-03,\n",
       "       -1.31596580e-01,  3.53360713e-01,  6.42702132e-02, -6.70465678e-02,\n",
       "       -1.56227440e-01,  1.26569569e-02,  2.72401422e-01, -5.44885872e-03,\n",
       "        4.62943316e-02, -6.17464297e-02, -1.73569292e-01, -5.73358573e-02,\n",
       "        2.32024297e-01,  1.71272874e-01,  1.10102288e-01,  5.69131374e-02,\n",
       "        8.67812857e-02, -3.36108536e-01, -1.60783723e-01,  3.85900065e-02,\n",
       "        3.29296440e-01,  2.49780282e-01,  1.85801729e-03, -4.68290038e-02,\n",
       "       -2.28354007e-01,  5.69744296e-02, -2.80834269e-02,  4.18174379e-02,\n",
       "       -3.77055667e-02,  3.01085729e-02, -4.31082323e-02,  2.24059835e-01,\n",
       "        1.06775865e-01, -9.07058567e-02,  2.05372870e-02,  3.79100032e-02,\n",
       "       -9.42486059e-03, -5.75620010e-02,  1.80427417e-01, -8.97910073e-02,\n",
       "        3.30259986e-02,  1.73882291e-01, -3.24819945e-02,  5.40458895e-02,\n",
       "       -8.58129933e-02, -1.75364107e-01,  9.06978473e-02, -6.53092936e-02,\n",
       "       -6.26631454e-02,  7.91200157e-03,  7.47872964e-02,  2.52604693e-01],\n",
       "      dtype=float32)"
      ]
     },
     "execution_count": 181,
     "metadata": {},
     "output_type": "execute_result"
    }
   ],
   "source": [
    "doc.vector"
   ]
  },
  {
   "cell_type": "code",
   "execution_count": 183,
   "metadata": {},
   "outputs": [
    {
     "data": {
      "text/plain": [
       "0.33404082"
      ]
     },
     "execution_count": 183,
     "metadata": {},
     "output_type": "execute_result"
    }
   ],
   "source": [
    "doc[0].similarity(doc[1])"
   ]
  },
  {
   "cell_type": "code",
   "execution_count": null,
   "metadata": {},
   "outputs": [],
   "source": []
  },
  {
   "cell_type": "code",
   "execution_count": null,
   "metadata": {},
   "outputs": [],
   "source": []
  },
  {
   "cell_type": "code",
   "execution_count": null,
   "metadata": {},
   "outputs": [],
   "source": []
  },
  {
   "cell_type": "code",
   "execution_count": null,
   "metadata": {},
   "outputs": [],
   "source": []
  },
  {
   "cell_type": "code",
   "execution_count": null,
   "metadata": {},
   "outputs": [],
   "source": []
  },
  {
   "cell_type": "code",
   "execution_count": null,
   "metadata": {},
   "outputs": [],
   "source": []
  },
  {
   "cell_type": "code",
   "execution_count": null,
   "metadata": {},
   "outputs": [],
   "source": []
  },
  {
   "cell_type": "code",
   "execution_count": null,
   "metadata": {},
   "outputs": [],
   "source": []
  },
  {
   "cell_type": "code",
   "execution_count": null,
   "metadata": {},
   "outputs": [],
   "source": []
  },
  {
   "cell_type": "code",
   "execution_count": null,
   "metadata": {},
   "outputs": [],
   "source": []
  },
  {
   "cell_type": "code",
   "execution_count": null,
   "metadata": {},
   "outputs": [],
   "source": []
  },
  {
   "cell_type": "code",
   "execution_count": null,
   "metadata": {},
   "outputs": [],
   "source": []
  },
  {
   "cell_type": "code",
   "execution_count": null,
   "metadata": {},
   "outputs": [],
   "source": []
  },
  {
   "cell_type": "code",
   "execution_count": null,
   "metadata": {},
   "outputs": [],
   "source": []
  }
 ],
 "metadata": {
  "kernelspec": {
   "display_name": "Python 3",
   "language": "python",
   "name": "python3"
  },
  "language_info": {
   "codemirror_mode": {
    "name": "ipython",
    "version": 3
   },
   "file_extension": ".py",
   "mimetype": "text/x-python",
   "name": "python",
   "nbconvert_exporter": "python",
   "pygments_lexer": "ipython3",
   "version": "3.7.3"
  }
 },
 "nbformat": 4,
 "nbformat_minor": 2
}
